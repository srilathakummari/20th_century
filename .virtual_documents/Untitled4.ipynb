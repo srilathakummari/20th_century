import pandas as pd


import time
from selenium import webdriver
from webdriver_manager.chrome import ChromeDriverManager
from selenium.webdriver.common.by import By
from selenium.webdriver.chrome.service import Service
from selenium.webdriver.chrome.options import Options
import matplotlib.pyplot as plt
import os
import logging
import requests
import bs4


## Setup chrome options

chrome_options = Options()
chrome_options.add_argument("--headless") # Ensure GUI is off
chrome_options.add_argument("--no-sandbox")


chromedriver_path="/Users/gideon/Downloads/chromedriver-mac-x64/chromedriver"


driver = webdriver.Chrome(service=Service(ChromeDriverManager().install()),
options=options)


options = webdriver.ChromeOptions()


options.binary_location = '/Applications/Google Chrome.app/Contents/MacOS/Google Chrome'


import pandas as pd
import time
from selenium import webdriver
from webdriver_manager.chrome import ChromeDriverManager
from selenium.webdriver.common.by import By
from selenium.webdriver.chrome.service import Service
from selenium.webdriver.chrome.options import Options
import matplotlib.pyplot as plt
import os
import logging
import requests
import bs4


driver = webdriver.Chrome(service=Service(ChromeDriverManager(version='114.0.5735.90').install()),
options=options)


driver = webdriver.Chrome(service=Service(ChromeDriverManager(version='114.0.5735.90').install()),options=options)


driver = webdriver.Chrome(ChromeDriverManager(version='114.0.5735.90').install(),options=options)


driver = webdriver.Chrome(ChromeDriverManager(version='129.0.6668.103').install(),options=options)


options.binary_location = '/Applications/Google Chrome.app/Contents/MacOS/Google Chrome'


driver = webdriver.Chrome(service=Service(ChromeDriverManager().install()),
options=options)


driver = webdriver.Chrome(service=Service(ChromeDriverManager().install()),options=options)
                          


import sys


print (sys.path)


import pandas as pd


import pandas as pd
import time
from selenium import webdriver
from webdriver_manager.chrome import ChromeDriverManager
from selenium.webdriver.common.by import By
from selenium.webdriver.chrome.service import Service
from selenium.webdriver.chrome.options import Options
import matplotlib.pyplot as plt
import os
import logging
import requests
import bs4


chrome_options = Options()
chrome_options.add_argument("--headless") # Ensure GUI is off
chrome_options.add_argument("--no-sandbox")


driver = webdriver.Chrome(service=Service(ChromeDriverManager().install()),
options=options)


chromedriver_path="/Users/gideon/Downloads/chromedriver-mac-x64/chromedriver"


service = Service(executable_path="/Users/gideon/Downloads/chromedriver-mac-x64/chromedriver")


options = webdriver.ChromeOptions()


options.add_argument('--headless=new')


driver = webdriver.Chrome(service=Service(ChromeDriverManager().install()),
options=options)


service = Service(executable_path=ChromeDriverManager().install())


driver = webdriver.Chrome(service=service, options=options)


options = Options()


driver = webdriver.Chrome(options=options, chromedriver_path=executable_path)


driver = webdriver.Chrome(chromedriver_path)


chromedriver_path="/Users/gideon/Downloads/chromedriver-mac-x64/chromedriver"


driver = webdriver.Chrome(service=Service(ChromeDriverManager().install()),
options=options)



