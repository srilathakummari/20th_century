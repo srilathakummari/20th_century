{
 "cells": [
  {
   "cell_type": "code",
   "execution_count": 30,
   "id": "57305c49-8373-4dc8-8b4b-aace2696216f",
   "metadata": {},
   "outputs": [],
   "source": [
    "# This Notebook consists of:\n",
    "## Import the required libraries\n",
    "## Create a random data using pd.DataFrame() function\n",
    "## Create a new column and execute mathematical operations\n",
    "## Create a flag column"
   ]
  },
  {
   "cell_type": "code",
   "execution_count": 1,
   "id": "9c5d3f64-2707-4d98-85be-ec701b4054b9",
   "metadata": {},
   "outputs": [],
   "source": [
    "# Import the required libraries\n",
    "import pandas as pd"
   ]
  },
  {
   "cell_type": "code",
   "execution_count": 32,
   "id": "0fb601f4-844f-4fc1-a3a9-57b74bb3b2d8",
   "metadata": {},
   "outputs": [],
   "source": [
    "# Create a random data using pd.DataFrame() function"
   ]
  },
  {
   "cell_type": "code",
   "execution_count": 3,
   "id": "1e4ff04a-ed12-44f7-86c2-7cd9a972ede8",
   "metadata": {},
   "outputs": [
    {
     "name": "stdout",
     "output_type": "stream",
     "text": [
      "     id  age  income  married\n",
      "0  Paul   31   50000     True\n",
      "1   Tim   45   70000    False\n",
      "2  Mary   90   25000     True\n",
      "3  Tony   20    5000    False\n",
      "4   Sam   35  100000     True\n"
     ]
    }
   ],
   "source": [
    "df=pd.DataFrame({\n",
    "    'id':['Paul','Tim','Mary','Tony','Sam'],\n",
    "    'age':[31,45,90,20,35],\n",
    "    'income':[50000,70000,25000,5000,100000],\n",
    "    'married':[True, False, True, False, True]\n",
    "})\n",
    "print(df.head())"
   ]
  },
  {
   "cell_type": "code",
   "execution_count": 11,
   "id": "68769ed6-71c0-4535-99f5-e9c4b9d78b89",
   "metadata": {},
   "outputs": [],
   "source": [
    "# Create a new column and execute mathematical operations\n",
    "# adding 10% bonus to the income"
   ]
  },
  {
   "cell_type": "code",
   "execution_count": 9,
   "id": "768dc434-099b-40ad-92b9-f0f769b264a0",
   "metadata": {},
   "outputs": [
    {
     "data": {
      "text/plain": [
       "0     55000.0\n",
       "1     77000.0\n",
       "2     27500.0\n",
       "3      5500.0\n",
       "4    110000.0\n",
       "Name: income, dtype: float64"
      ]
     },
     "execution_count": 9,
     "metadata": {},
     "output_type": "execute_result"
    }
   ],
   "source": [
    "multiply_2 = lambda x:x+x*10/100\n",
    "multiply_2(df['income'])"
   ]
  },
  {
   "cell_type": "code",
   "execution_count": 13,
   "id": "457a7b75-54a1-4c32-ba93-f3f86937ff7e",
   "metadata": {},
   "outputs": [
    {
     "data": {
      "text/html": [
       "<div>\n",
       "<style scoped>\n",
       "    .dataframe tbody tr th:only-of-type {\n",
       "        vertical-align: middle;\n",
       "    }\n",
       "\n",
       "    .dataframe tbody tr th {\n",
       "        vertical-align: top;\n",
       "    }\n",
       "\n",
       "    .dataframe thead th {\n",
       "        text-align: right;\n",
       "    }\n",
       "</style>\n",
       "<table border=\"1\" class=\"dataframe\">\n",
       "  <thead>\n",
       "    <tr style=\"text-align: right;\">\n",
       "      <th></th>\n",
       "      <th>id</th>\n",
       "      <th>age</th>\n",
       "      <th>income</th>\n",
       "      <th>married</th>\n",
       "      <th>bonus_income</th>\n",
       "    </tr>\n",
       "  </thead>\n",
       "  <tbody>\n",
       "    <tr>\n",
       "      <th>0</th>\n",
       "      <td>Paul</td>\n",
       "      <td>31</td>\n",
       "      <td>50000</td>\n",
       "      <td>True</td>\n",
       "      <td>55000.0</td>\n",
       "    </tr>\n",
       "    <tr>\n",
       "      <th>1</th>\n",
       "      <td>Tim</td>\n",
       "      <td>45</td>\n",
       "      <td>70000</td>\n",
       "      <td>False</td>\n",
       "      <td>77000.0</td>\n",
       "    </tr>\n",
       "    <tr>\n",
       "      <th>2</th>\n",
       "      <td>Mary</td>\n",
       "      <td>90</td>\n",
       "      <td>25000</td>\n",
       "      <td>True</td>\n",
       "      <td>27500.0</td>\n",
       "    </tr>\n",
       "    <tr>\n",
       "      <th>3</th>\n",
       "      <td>Tony</td>\n",
       "      <td>20</td>\n",
       "      <td>5000</td>\n",
       "      <td>False</td>\n",
       "      <td>5500.0</td>\n",
       "    </tr>\n",
       "    <tr>\n",
       "      <th>4</th>\n",
       "      <td>Sam</td>\n",
       "      <td>35</td>\n",
       "      <td>100000</td>\n",
       "      <td>True</td>\n",
       "      <td>110000.0</td>\n",
       "    </tr>\n",
       "  </tbody>\n",
       "</table>\n",
       "</div>"
      ],
      "text/plain": [
       "     id  age  income  married  bonus_income\n",
       "0  Paul   31   50000     True       55000.0\n",
       "1   Tim   45   70000    False       77000.0\n",
       "2  Mary   90   25000     True       27500.0\n",
       "3  Tony   20    5000    False        5500.0\n",
       "4   Sam   35  100000     True      110000.0"
      ]
     },
     "execution_count": 13,
     "metadata": {},
     "output_type": "execute_result"
    }
   ],
   "source": [
    "df['bonus_income'] = multiply_2(df['income'])\n",
    "df"
   ]
  },
  {
   "cell_type": "code",
   "execution_count": 17,
   "id": "62e6a0d4-b40f-4a69-98c9-fe1bcbe411ad",
   "metadata": {},
   "outputs": [],
   "source": [
    "## using apply() function"
   ]
  },
  {
   "cell_type": "code",
   "execution_count": 19,
   "id": "1b4d1b37-cbd5-4866-997a-9e1f83ffb8c4",
   "metadata": {},
   "outputs": [
    {
     "data": {
      "text/html": [
       "<div>\n",
       "<style scoped>\n",
       "    .dataframe tbody tr th:only-of-type {\n",
       "        vertical-align: middle;\n",
       "    }\n",
       "\n",
       "    .dataframe tbody tr th {\n",
       "        vertical-align: top;\n",
       "    }\n",
       "\n",
       "    .dataframe thead th {\n",
       "        text-align: right;\n",
       "    }\n",
       "</style>\n",
       "<table border=\"1\" class=\"dataframe\">\n",
       "  <thead>\n",
       "    <tr style=\"text-align: right;\">\n",
       "      <th></th>\n",
       "      <th>id</th>\n",
       "      <th>age</th>\n",
       "      <th>income</th>\n",
       "      <th>married</th>\n",
       "      <th>bonus_income</th>\n",
       "      <th>bonus_income1</th>\n",
       "    </tr>\n",
       "  </thead>\n",
       "  <tbody>\n",
       "    <tr>\n",
       "      <th>0</th>\n",
       "      <td>Paul</td>\n",
       "      <td>31</td>\n",
       "      <td>50000</td>\n",
       "      <td>True</td>\n",
       "      <td>55000.0</td>\n",
       "      <td>55000.0</td>\n",
       "    </tr>\n",
       "    <tr>\n",
       "      <th>1</th>\n",
       "      <td>Tim</td>\n",
       "      <td>45</td>\n",
       "      <td>70000</td>\n",
       "      <td>False</td>\n",
       "      <td>77000.0</td>\n",
       "      <td>77000.0</td>\n",
       "    </tr>\n",
       "    <tr>\n",
       "      <th>2</th>\n",
       "      <td>Mary</td>\n",
       "      <td>90</td>\n",
       "      <td>25000</td>\n",
       "      <td>True</td>\n",
       "      <td>27500.0</td>\n",
       "      <td>27500.0</td>\n",
       "    </tr>\n",
       "    <tr>\n",
       "      <th>3</th>\n",
       "      <td>Tony</td>\n",
       "      <td>20</td>\n",
       "      <td>5000</td>\n",
       "      <td>False</td>\n",
       "      <td>5500.0</td>\n",
       "      <td>5500.0</td>\n",
       "    </tr>\n",
       "    <tr>\n",
       "      <th>4</th>\n",
       "      <td>Sam</td>\n",
       "      <td>35</td>\n",
       "      <td>100000</td>\n",
       "      <td>True</td>\n",
       "      <td>110000.0</td>\n",
       "      <td>110000.0</td>\n",
       "    </tr>\n",
       "  </tbody>\n",
       "</table>\n",
       "</div>"
      ],
      "text/plain": [
       "     id  age  income  married  bonus_income  bonus_income1\n",
       "0  Paul   31   50000     True       55000.0        55000.0\n",
       "1   Tim   45   70000    False       77000.0        77000.0\n",
       "2  Mary   90   25000     True       27500.0        27500.0\n",
       "3  Tony   20    5000    False        5500.0         5500.0\n",
       "4   Sam   35  100000     True      110000.0       110000.0"
      ]
     },
     "execution_count": 19,
     "metadata": {},
     "output_type": "execute_result"
    }
   ],
   "source": [
    "df['bonus_income1'] = df['income'].apply(lambda x:x+x*10/100)\n",
    "df"
   ]
  },
  {
   "cell_type": "code",
   "execution_count": 34,
   "id": "1ec18376-444a-4cf2-b49a-1f2ac5f69f34",
   "metadata": {},
   "outputs": [],
   "source": [
    "## Creating a flag column using Lambda function"
   ]
  },
  {
   "cell_type": "code",
   "execution_count": 23,
   "id": "1689afbc-061f-4c49-89ad-7b0172a88e26",
   "metadata": {},
   "outputs": [
    {
     "data": {
      "text/html": [
       "<div>\n",
       "<style scoped>\n",
       "    .dataframe tbody tr th:only-of-type {\n",
       "        vertical-align: middle;\n",
       "    }\n",
       "\n",
       "    .dataframe tbody tr th {\n",
       "        vertical-align: top;\n",
       "    }\n",
       "\n",
       "    .dataframe thead th {\n",
       "        text-align: right;\n",
       "    }\n",
       "</style>\n",
       "<table border=\"1\" class=\"dataframe\">\n",
       "  <thead>\n",
       "    <tr style=\"text-align: right;\">\n",
       "      <th></th>\n",
       "      <th>id</th>\n",
       "      <th>age</th>\n",
       "      <th>income</th>\n",
       "      <th>married</th>\n",
       "      <th>bonus_income</th>\n",
       "      <th>bonus_income1</th>\n",
       "      <th>lambda category</th>\n",
       "    </tr>\n",
       "  </thead>\n",
       "  <tbody>\n",
       "    <tr>\n",
       "      <th>0</th>\n",
       "      <td>Paul</td>\n",
       "      <td>31</td>\n",
       "      <td>50000</td>\n",
       "      <td>True</td>\n",
       "      <td>55000.0</td>\n",
       "      <td>55000.0</td>\n",
       "      <td>high income</td>\n",
       "    </tr>\n",
       "    <tr>\n",
       "      <th>1</th>\n",
       "      <td>Tim</td>\n",
       "      <td>45</td>\n",
       "      <td>70000</td>\n",
       "      <td>False</td>\n",
       "      <td>77000.0</td>\n",
       "      <td>77000.0</td>\n",
       "      <td>high income</td>\n",
       "    </tr>\n",
       "    <tr>\n",
       "      <th>2</th>\n",
       "      <td>Mary</td>\n",
       "      <td>90</td>\n",
       "      <td>25000</td>\n",
       "      <td>True</td>\n",
       "      <td>27500.0</td>\n",
       "      <td>27500.0</td>\n",
       "      <td>medium income</td>\n",
       "    </tr>\n",
       "    <tr>\n",
       "      <th>3</th>\n",
       "      <td>Tony</td>\n",
       "      <td>20</td>\n",
       "      <td>5000</td>\n",
       "      <td>False</td>\n",
       "      <td>5500.0</td>\n",
       "      <td>5500.0</td>\n",
       "      <td>low income</td>\n",
       "    </tr>\n",
       "    <tr>\n",
       "      <th>4</th>\n",
       "      <td>Sam</td>\n",
       "      <td>35</td>\n",
       "      <td>100000</td>\n",
       "      <td>True</td>\n",
       "      <td>110000.0</td>\n",
       "      <td>110000.0</td>\n",
       "      <td>high income</td>\n",
       "    </tr>\n",
       "  </tbody>\n",
       "</table>\n",
       "</div>"
      ],
      "text/plain": [
       "     id  age  income  married  bonus_income  bonus_income1 lambda category\n",
       "0  Paul   31   50000     True       55000.0        55000.0     high income\n",
       "1   Tim   45   70000    False       77000.0        77000.0     high income\n",
       "2  Mary   90   25000     True       27500.0        27500.0   medium income\n",
       "3  Tony   20    5000    False        5500.0         5500.0      low income\n",
       "4   Sam   35  100000     True      110000.0       110000.0     high income"
      ]
     },
     "execution_count": 23,
     "metadata": {},
     "output_type": "execute_result"
    }
   ],
   "source": [
    "df['lambda category'] = df['income'].apply(lambda x: 'high income' if x > 30000 else ('medium income' if x > 7500 else 'low income'))\n",
    "df"
   ]
  },
  {
   "cell_type": "code",
   "execution_count": 36,
   "id": "dfd1ac1b-fa16-41db-9107-65135bd5c179",
   "metadata": {},
   "outputs": [],
   "source": [
    "# END"
   ]
  },
  {
   "cell_type": "code",
   "execution_count": null,
   "id": "3312493a-e12a-4c73-8d63-5f17ed3a932e",
   "metadata": {},
   "outputs": [],
   "source": []
  },
  {
   "cell_type": "code",
   "execution_count": null,
   "id": "a1457bbb-b20c-4a3e-94b1-99de1a42e6b4",
   "metadata": {},
   "outputs": [],
   "source": []
  }
 ],
 "metadata": {
  "kernelspec": {
   "display_name": "Python [conda env:venv_20th_century]",
   "language": "python",
   "name": "conda-env-venv_20th_century-py"
  },
  "language_info": {
   "codemirror_mode": {
    "name": "ipython",
    "version": 3
   },
   "file_extension": ".py",
   "mimetype": "text/x-python",
   "name": "python",
   "nbconvert_exporter": "python",
   "pygments_lexer": "ipython3",
   "version": "3.12.7"
  }
 },
 "nbformat": 4,
 "nbformat_minor": 5
}
